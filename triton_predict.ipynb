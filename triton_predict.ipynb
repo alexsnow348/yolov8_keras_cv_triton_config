{
 "cells": [
  {
   "cell_type": "code",
   "execution_count": 1,
   "metadata": {},
   "outputs": [],
   "source": [
    "import cv2\n",
    "import json\n",
    "import requests\n",
    "import kserve\n",
    "import numpy as np\n",
    "import tritonclient.http as httpclient"
   ]
  },
  {
   "cell_type": "code",
   "execution_count": 2,
   "metadata": {},
   "outputs": [],
   "source": [
    "im = cv2.imread(\n",
    "    \"/home/wut/playground/DQ_Arralyze_MachineLearning/rest_related/mldeployment/test/TestImg.png\"\n",
    ")"
   ]
  },
  {
   "cell_type": "code",
   "execution_count": 3,
   "metadata": {},
   "outputs": [],
   "source": [
    "api_url = \"http://mlserver1.lpkf.com:8000/v2\"\n",
    "response = requests.get(api_url)\n",
    "response.content\n",
    "\n",
    "with open(\"server_info.json\", \"w\") as f:\n",
    "    # Write the response to a JSON file\n",
    "    json.dump(response.json(), f)"
   ]
  },
  {
   "cell_type": "code",
   "execution_count": 4,
   "metadata": {},
   "outputs": [],
   "source": [
    "try:\n",
    "    # Need to specify large enough concurrency to issue all the\n",
    "    # inference requests to the server in parallel.\n",
    "    triton_client = httpclient.InferenceServerClient(\n",
    "        url=\"mlserver1.lpkf.com:8000\", verbose=False, concurrency=100\n",
    "    )\n",
    "except Exception as e:\n",
    "    print(\"context creation failed: \" + str(e))\n",
    "model_name = \"yolov8_ensemble\""
   ]
  },
  {
   "cell_type": "code",
   "execution_count": 5,
   "metadata": {},
   "outputs": [],
   "source": [
    "dat = np.asarray(im, dtype=np.float32).reshape(1, 1265, 1268, 3)\n",
    "inferInput = kserve.InferInput(\n",
    "    \"input_2\", [1, 1265, 1268, 3], datatype=\"FP32\", data=dat\n",
    ")\n",
    "inferRequest = kserve.InferRequest(infer_inputs=[inferInput], model_name=\"yolov8_ensemble\")\n",
    "restRequest = inferRequest.to_rest()"
   ]
  },
  {
   "cell_type": "code",
   "execution_count": 12,
   "metadata": {},
   "outputs": [],
   "source": [
    "r = requests.post(\n",
    "    \"http://mlserver1.lpkf.com:8000/v2/models/yolov8_ensemble/versions/1/infer\",\n",
    "    json=restRequest,\n",
    ")\n",
    "# r = requests.post(\n",
    "#     \"http://mlserver1.lpkf.com:8000/v2/models/yolov8_tf/versions/1/infer\",\n",
    "#     json=restRequest,\n",
    "# )\n",
    "# r.json()\n",
    "with open(\"infer_yolov8_ensemble_with_confidence.json\", \"w\") as f:\n",
    "    # Write the response to a JSON file\n",
    "    json.dump(r.json(), f)"
   ]
  }
 ],
 "metadata": {
  "kernelspec": {
   "display_name": "yolo8",
   "language": "python",
   "name": "python3"
  },
  "language_info": {
   "codemirror_mode": {
    "name": "ipython",
    "version": 3
   },
   "file_extension": ".py",
   "mimetype": "text/x-python",
   "name": "python",
   "nbconvert_exporter": "python",
   "pygments_lexer": "ipython3",
   "version": "3.10.14"
  }
 },
 "nbformat": 4,
 "nbformat_minor": 2
}
